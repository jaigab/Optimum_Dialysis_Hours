{
 "cells": [
  {
   "cell_type": "code",
   "execution_count": 2,
   "id": "fe6e2411-d720-4757-b5e8-55052a3a94cc",
   "metadata": {},
   "outputs": [
    {
     "name": "stdout",
     "output_type": "stream",
     "text": [
      "2....\n",
      "2....\n",
      ".2...\n",
      ".2...\n",
      ".....\n"
     ]
    }
   ],
   "source": [
    "import random\n",
    "gridfield=[]\n",
    "counter={}\n",
    "width=5\n",
    "for i in range(width):\n",
    "    counter[i]=[]\n",
    "    line=[]\n",
    "    for j in range(width):\n",
    "        if random.randint(0,(width**2))<int(0.2*(width**2)):           \n",
    "            line=line+[2]\n",
    "        else:\n",
    "            line=line+['.']\n",
    "        counter[i]=counter[i]+[0]\n",
    "    gridfield=gridfield+[line]\n",
    "two_count=0\n",
    "for line in gridfield:\n",
    "    for item in line:\n",
    "        if item == 2:\n",
    "            two_count=two_count+1\n",
    "if two_count<3:\n",
    "    for i in range(4):\n",
    "        gridfield[width-1][i]=2\n",
    "nfield=[]\n",
    "strfield=[]\n",
    "for n in gridfield:\n",
    "    templ=[]\n",
    "    for o in n:\n",
    "        templ=templ+[str(o)]\n",
    "    strfield=strfield+[templ]\n",
    "for i in strfield:\n",
    "    print(\"\".join(i))"
   ]
  },
  {
   "cell_type": "code",
   "execution_count": 3,
   "id": "7dc322a8-b307-4183-a97c-187df131f089",
   "metadata": {},
   "outputs": [
    {
     "name": "stdout",
     "output_type": "stream",
     "text": [
      ". . . . . \n",
      ". . . . . \n",
      ". . . . . \n",
      ". . . . . \n",
      "4 4 . . . \n"
     ]
    }
   ],
   "source": [
    "def two_oh_four_eight(grid,move):\n",
    "    for i in range(width):\n",
    "        for j in range(width):\n",
    "            num=grid[i][j]\n",
    "            if move ==\"up\":\n",
    "                if grid[i][j] != '.':\n",
    "                    for n in range(i):\n",
    "                        if grid[n][j]!='.':\n",
    "                            continue\n",
    "                        else:\n",
    "                            grid[n][j]=num\n",
    "                            grid[i][j]='.'\n",
    "                            break\n",
    "            if move ==\"left\":\n",
    "                if grid[i][j] != '.':\n",
    "                    for n in range(j):\n",
    "                        if grid[i][n]!='.':\n",
    "                            continue\n",
    "                        else:\n",
    "                            grid[i][n]=num\n",
    "                            grid[i][j]='.'\n",
    "                            break\n",
    "            if move ==\"right\":\n",
    "                if grid[i][j] != '.':\n",
    "                    for n in reversed(range(j,len(grid[i]))):\n",
    "                        if grid[i][n]!='.':\n",
    "                            continue\n",
    "                        else:\n",
    "                            grid[i][n]=num\n",
    "                            grid[i][j]='.'\n",
    "                            break\n",
    "            if move ==\"down\":\n",
    "                if grid[i][j] != '.':\n",
    "                    for n in reversed(range(i,len(grid))):\n",
    "                        if grid[n][j]!='.':\n",
    "                            continue\n",
    "                        else:\n",
    "                            grid[n][j]=num\n",
    "                            grid[i][j]='.'\n",
    "                            break\n",
    "    for i in range(width):\n",
    "        for j in range(width):\n",
    "            num=grid[i][j]\n",
    "            if move ==\"up\":\n",
    "                if i!=(width-1) and grid[i][j]==grid[i+1][j] and grid[i][j]!='.':\n",
    "                    grid[i][j]=(num*2)\n",
    "                    counter[i][j]=1\n",
    "                    for n in range(i+1,len(grid)-1):\n",
    "                        grid[n][j]=grid[n+1][j]\n",
    "            if move ==\"left\":\n",
    "                if j!=(width-1) and grid[i][j]==grid[i][j+1] and grid[i][j]!='.':\n",
    "                    grid[i][j]=(num*2)\n",
    "                    counter[i][j]=1\n",
    "                    for n in range(j+1,len(grid[i])-1):\n",
    "                        grid[i][n]=grid[i][n+1]\n",
    "    for i in reversed(range(width)):\n",
    "        for j in reversed(range(width)):\n",
    "            num=grid[i][j]\n",
    "            if move ==\"down\":\n",
    "                if i!=0 and grid[i][j]==grid[i-1][j] and grid[i][j]!='.':\n",
    "                    grid[i][j]=(num*2)\n",
    "                    counter[i][j]=1\n",
    "                    for n in reversed(range(0,i-1)):\n",
    "                        grid[n+1][j]=grid[n][j]\n",
    "            if move ==\"right\":\n",
    "                if j!=0 and grid[i][j]==grid[i][j-1] and grid[i][j]!='.':\n",
    "                    grid[i][j]=(num*2)\n",
    "                    counter[i][j]=1\n",
    "                    for n in reversed(range(0,j-1)):\n",
    "                        grid[i][n+1]=grid[i][n]\n",
    "    freespace=False\n",
    "    for line in range(len(counter)):\n",
    "        for item in range(len(counter[line])):\n",
    "            if move == \"up\":\n",
    "                if freespace==False:\n",
    "                    if random.randint(0,10)<3:\n",
    "                        grid[width-1][item]=2\n",
    "                    if 6>random.randint(0,10)>=3:\n",
    "                        grid[width-1][item]=4\n",
    "                    if 10>random.randint(0,10)>=6:\n",
    "                        grid[width-1][item]=8\n",
    "                    freespace=True\n",
    "                    break\n",
    "                else:\n",
    "                    grid[width-1][item]='.'\n",
    "                    freespace==False\n",
    "                    break\n",
    "            if move == \"down\":\n",
    "                if freespace==False:\n",
    "                    if random.randint(0,10)<3:\n",
    "                        grid[0][item]=2\n",
    "                    if 6>random.randint(0,10)>=3:\n",
    "                        grid[0][item]=4\n",
    "                    if 10>random.randint(0,10)>=6:\n",
    "                        grid[0][item]=8\n",
    "                    freespace=True\n",
    "                    break\n",
    "                else:\n",
    "                    grid[0][item]='.'\n",
    "                    freespace==False\n",
    "                    break\n",
    "            if move == \"left\":\n",
    "                if freespace==False:\n",
    "                    if random.randint(0,10)<3:\n",
    "                        grid[line][width-1]=2\n",
    "                    if 6>random.randint(0,10)>=3:\n",
    "                        grid[line][width-1]=4\n",
    "                    if 10>random.randint(0,10)>=6:\n",
    "                        grid[line][width-1]=8\n",
    "                    freespace=True\n",
    "                    break\n",
    "                else:\n",
    "                    grid[line][width-1]='.'\n",
    "                    freespace=False\n",
    "                    break\n",
    "            if move == \"right\":\n",
    "                if freespace==False:\n",
    "                    if random.randint(0,10)<3:\n",
    "                        grid[line][0]=2\n",
    "                    if 6>random.randint(0,10)>=3:\n",
    "                        grid[line][0]=4\n",
    "                    if 10>random.randint(0,10)>=6:\n",
    "                        grid[line][0]=8\n",
    "                    freespace=True\n",
    "                    break\n",
    "                else:\n",
    "                    grid[line][0]='.'\n",
    "                    freespace==False\n",
    "                    break\n",
    "    return grid\n",
    "\n",
    "gridfield=two_oh_four_eight(gridfield,\"down\")\n",
    "\n",
    "nfield=[]\n",
    "strfield=[]\n",
    "for n in gridfield:\n",
    "    templ=[]\n",
    "    for o in n:\n",
    "        templ=templ+[str(o)+' ']\n",
    "    strfield=strfield+[templ]\n",
    "for i in strfield:\n",
    "    print(\"\".join(i))"
   ]
  },
  {
   "cell_type": "code",
   "execution_count": 420,
   "id": "2c0a1317-d2d0-449d-b9cb-ca3a4d8c2835",
   "metadata": {},
   "outputs": [
    {
     "data": {
      "text/plain": [
       "{0: [1, 0, 0, 0, 1],\n",
       " 1: [0, 0, 0, 0, 0],\n",
       " 2: [0, 0, 0, 0, 0],\n",
       " 3: [1, 0, 0, 0, 1],\n",
       " 4: [1, 0, 0, 0, 1]}"
      ]
     },
     "execution_count": 420,
     "metadata": {},
     "output_type": "execute_result"
    }
   ],
   "source": [
    "counter"
   ]
  },
  {
   "cell_type": "code",
   "execution_count": 296,
   "id": "47b6d104-1330-403f-90bc-3a44ebb5e997",
   "metadata": {},
   "outputs": [
    {
     "data": {
      "text/plain": [
       "0"
      ]
     },
     "execution_count": 296,
     "metadata": {},
     "output_type": "execute_result"
    }
   ],
   "source": [
    "j"
   ]
  }
 ],
 "metadata": {
  "kernelspec": {
   "display_name": "Python 3 (ipykernel)",
   "language": "python",
   "name": "python3"
  },
  "language_info": {
   "codemirror_mode": {
    "name": "ipython",
    "version": 3
   },
   "file_extension": ".py",
   "mimetype": "text/x-python",
   "name": "python",
   "nbconvert_exporter": "python",
   "pygments_lexer": "ipython3",
   "version": "3.9.13"
  }
 },
 "nbformat": 4,
 "nbformat_minor": 5
}
