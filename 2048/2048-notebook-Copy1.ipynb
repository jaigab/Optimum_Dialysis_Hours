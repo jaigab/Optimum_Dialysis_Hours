{
 "cells": [
  {
   "cell_type": "code",
   "execution_count": 2,
   "id": "8454f296-6936-455e-ab0a-a30d49bfc13a",
   "metadata": {},
   "outputs": [],
   "source": [
    "import random\n",
    "import copy"
   ]
  },
  {
   "cell_type": "code",
   "execution_count": 22,
   "id": "74ea64b1-3661-4fa2-b4f6-1987b495c08e",
   "metadata": {},
   "outputs": [],
   "source": [
    "class game_2048:\n",
    "    def __init__(self,dimension):\n",
    "        self.dimension = dimension\n",
    "        game_grid = []\n",
    "        for height in range(self.dimension):\n",
    "            line = []\n",
    "            for width in range(self.dimension):\n",
    "                if random.randint(0,(self.dimension**2))<int(0.2*(self.dimension**2)): line += [2]\n",
    "                else: line.append('.')\n",
    "            game_grid.append(line)\n",
    "        two_count = 0\n",
    "        for line in game_grid:\n",
    "            for item in line:\n",
    "                if item == 2: two_count += 1\n",
    "        if two_count <= 2:\n",
    "            for i in range(2): game_grid[width-1][i] = 2\n",
    "        self.game_grid = game_grid\n",
    "    \n",
    "    def get_grid(self):\n",
    "        strfield=[]\n",
    "        for line in self.game_grid:\n",
    "            str_line=[]\n",
    "            for item in line: str_line += [str(item)]\n",
    "            strfield.append(str_line)\n",
    "        self.strfield = strfield\n",
    "        for line in self.strfield: print(\" \".join(line))\n",
    "            \n",
    "    def adding_numbers_in_move(self,LIST):\n",
    "        function_LIST = copy.copy(LIST)\n",
    "        if len(function_LIST) <= 1: return function_LIST\n",
    "        elif len(function_LIST) == 2:\n",
    "            if function_LIST[0] == function_LIST[1]: return [function_LIST[0] + function_LIST[1]]\n",
    "            else: return function_LIST\n",
    "        else:\n",
    "            output_list = []\n",
    "            while len(function_LIST) >= 2:\n",
    "                if function_LIST[0] == function_LIST[1]:\n",
    "                    output_list.append(function_LIST[0] + function_LIST[1])\n",
    "                    function_LIST.pop(0)\n",
    "                    function_LIST.pop(0)\n",
    "                else: output_list.append(function_LIST.pop(0))\n",
    "            if function_LIST != []: output_list.append(function_LIST[0])\n",
    "            return output_list\n",
    "        \n",
    "    def move(self,direction):\n",
    "        numbers_to_move = {}\n",
    "        added_numbers = {}\n",
    "        twos_to_add = {}\n",
    "        direction_range = {}\n",
    "        direction_range[\"up\"],direction_range[\"left\"],direction_range[\"down\"], direction_range[\"right\"] = [range(self.dimension),range(self.dimension),reversed(range(self.dimension)),reversed(range(self.dimension))]\n",
    "        for i in range(self.dimension): numbers_to_move[i] = []\n",
    "        for i in direction_range[direction]:\n",
    "            for j in range(self.dimension):\n",
    "                if type(self.game_grid[i][j]) == int: numbers_to_move[j].append(self.game_grid[i][j])\n",
    "        for dim in range(self.dimension):\n",
    "            added_numbers[dim] = self.adding_numbers_in_move(numbers_to_move[dim])\n",
    "            if numbers_to_move[dim] == [] or added_numbers[dim] == []: twos_to_add[dim] = 0\n",
    "            else: twos_to_add[dim] = len(numbers_to_move[dim]) - len(added_numbers[dim])\n",
    "        self.added_numbers = added_numbers\n",
    "        self.twos_to_add = twos_to_add\n",
    "        self.set_grid(direction)\n",
    "        self.get_grid()\n",
    "        \n",
    "    def set_grid(self,direction):\n",
    "        game_grid = []\n",
    "        for height in range(self.dimension):\n",
    "            line = []\n",
    "            for width in range(self.dimension):\n",
    "                line.append('.')\n",
    "            game_grid.append(line)\n",
    "        for dim in range(self.dimension):\n",
    "            if direction == \"up\":\n",
    "                for num in range(len(self.added_numbers[dim])):\n",
    "                    game_grid[num][dim] = self.added_numbers[dim][num]\n",
    "                num_changes = False\n",
    "                for num in range(self.twos_to_add[dim]):\n",
    "                    game_grid[num-1][dim] = random.choice([2,4,8,16])\n",
    "                    num_changes = True\n",
    "                if num_changes == False:\n",
    "                    game_grid[self.dimension-1][random.choice(list(range(self.dimension)))] = random.choice([\".\",2,\".\",4,\".\"])\n",
    "            elif direction == \"down\":\n",
    "                for num in range(len(self.added_numbers[dim])):\n",
    "                    game_grid[self.dimension-1-num][dim] = self.added_numbers[dim][num]\n",
    "                for num in range(self.twos_to_add[dim]):\n",
    "                    game_grid[num][dim] = random.choice([2,4,8,16])\n",
    "            elif direction == \"left\":\n",
    "                for num in range(len(self.added_numbers[dim])):\n",
    "                    game_grid[dim][num] = self.added_numbers[dim][num]\n",
    "                for num in range(self.twos_to_add[dim]):\n",
    "                    game_grid[dim][self.dimension-num-1] = random.choice([2,4,8,16])\n",
    "            elif direction == \"right\":\n",
    "                for num in range(len(self.added_numbers[dim])):\n",
    "                    game_grid[dim][self.dimension-num-1] = self.added_numbers[dim][num]\n",
    "                for num in range(self.twos_to_add[dim]):\n",
    "                    game_grid[dim][num] = random.choice([2,4,8,16])\n",
    "        self.game_grid = game_grid"
   ]
  },
  {
   "cell_type": "code",
   "execution_count": 25,
   "id": "558744de-a3ce-46cd-a275-588d8eb7b9e3",
   "metadata": {},
   "outputs": [
    {
     "name": "stdout",
     "output_type": "stream",
     "text": [
      ". . . . .\n",
      ". 2 . . .\n",
      ". 2 . . .\n",
      ". 2 . . .\n",
      ". . 2 . 2\n"
     ]
    }
   ],
   "source": [
    "new_game_2048 = game_2048(5)\n",
    "new_game_2048.get_grid()"
   ]
  },
  {
   "cell_type": "code",
   "execution_count": 26,
   "id": "7f1b224d-da91-431f-93da-678a958168fe",
   "metadata": {},
   "outputs": [
    {
     "name": "stdout",
     "output_type": "stream",
     "text": [
      ". . . . .\n",
      "4 . . . 16\n",
      "2 . . . .\n",
      ". . . . .\n",
      "2 . . . .\n"
     ]
    }
   ],
   "source": [
    "new_game_2048.move(\"left\")"
   ]
  },
  {
   "cell_type": "code",
   "execution_count": null,
   "id": "62ca5f85-b146-42fe-ab70-9ce0381cc864",
   "metadata": {},
   "outputs": [],
   "source": []
  }
 ],
 "metadata": {
  "kernelspec": {
   "display_name": "Python 3 (ipykernel)",
   "language": "python",
   "name": "python3"
  },
  "language_info": {
   "codemirror_mode": {
    "name": "ipython",
    "version": 3
   },
   "file_extension": ".py",
   "mimetype": "text/x-python",
   "name": "python",
   "nbconvert_exporter": "python",
   "pygments_lexer": "ipython3",
   "version": "3.9.13"
  }
 },
 "nbformat": 4,
 "nbformat_minor": 5
}
