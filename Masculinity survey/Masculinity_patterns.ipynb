{
 "cells": [
  {
   "cell_type": "code",
   "execution_count": 27,
   "id": "b0242fbe-5057-4204-99f7-2db8d604c546",
   "metadata": {},
   "outputs": [],
   "source": [
    "import pandas as pd\n",
    "from matplotlib import pyplot as plt\n",
    "from sklearn.cluster import KMeans"
   ]
  },
  {
   "cell_type": "code",
   "execution_count": 12,
   "id": "6878b5a5-c39e-4d62-82fd-c37a763a7a6b",
   "metadata": {},
   "outputs": [],
   "source": [
    "survey = pd.read_csv(\"masculinity.csv\")"
   ]
  },
  {
   "cell_type": "code",
   "execution_count": 13,
   "id": "1a339074",
   "metadata": {},
   "outputs": [],
   "source": [
    "mapping_dictionary = {\"Often\" : 4, \"Sometimes\" : 3, \"Rarely\" : 2, \"Never, but open to it\" : 1, \"Never, and not open to it\" : 0.}\n",
    "for num in range(1,12):\n",
    "    if num < 10: survey[\"q0007_000\" + str(num)] = survey[\"q0007_000\" + str(num)].map(mapping_dictionary)\n",
    "    else: survey[\"q0007_00\" + str(num)] = survey[\"q0007_00\" + str(num)].map(mapping_dictionary)\n",
    "    "
   ]
  },
  {
   "cell_type": "code",
   "execution_count": 68,
   "id": "90be2bd0",
   "metadata": {},
   "outputs": [
    {
     "data": {
      "text/plain": [
       "Index(['Unnamed: 0', 'StartDate', 'EndDate', 'q0001', 'q0002', 'q0004_0001',\n",
       "       'q0004_0002', 'q0004_0003', 'q0004_0004', 'q0004_0005', 'q0004_0006',\n",
       "       'q0005', 'q0007_0001', 'q0007_0002', 'q0007_0003', 'q0007_0004',\n",
       "       'q0007_0005', 'q0007_0006', 'q0007_0007', 'q0007_0008', 'q0007_0009',\n",
       "       'q0007_0010', 'q0007_0011', 'q0008_0001', 'q0008_0002', 'q0008_0003',\n",
       "       'q0008_0004', 'q0008_0005', 'q0008_0006', 'q0008_0007', 'q0008_0008',\n",
       "       'q0008_0009', 'q0008_0010', 'q0008_0011', 'q0008_0012', 'q0009',\n",
       "       'q0010_0001', 'q0010_0002', 'q0010_0003', 'q0010_0004', 'q0010_0005',\n",
       "       'q0010_0006', 'q0010_0007', 'q0010_0008', 'q0011_0001', 'q0011_0002',\n",
       "       'q0011_0003', 'q0011_0004', 'q0011_0005', 'q0012_0001', 'q0012_0002',\n",
       "       'q0012_0003', 'q0012_0004', 'q0012_0005', 'q0012_0006', 'q0012_0007',\n",
       "       'q0013', 'q0014', 'q0015', 'q0017', 'q0018', 'q0019_0001', 'q0019_0002',\n",
       "       'q0019_0003', 'q0019_0004', 'q0019_0005', 'q0019_0006', 'q0019_0007',\n",
       "       'q0020_0001', 'q0020_0002', 'q0020_0003', 'q0020_0004', 'q0020_0005',\n",
       "       'q0020_0006', 'q0021_0001', 'q0021_0002', 'q0021_0003', 'q0021_0004',\n",
       "       'q0022', 'q0024', 'q0025_0001', 'q0025_0002', 'q0025_0003', 'q0026',\n",
       "       'q0028', 'q0029', 'q0030', 'q0034', 'q0035', 'q0036', 'race2',\n",
       "       'racethn4', 'educ3', 'educ4', 'age3', 'kids', 'orientation', 'weight'],\n",
       "      dtype='object')"
      ]
     },
     "execution_count": 68,
     "metadata": {},
     "output_type": "execute_result"
    }
   ],
   "source": [
    "survey.columns"
   ]
  },
  {
   "cell_type": "code",
   "execution_count": 73,
   "id": "3a1ca5fd",
   "metadata": {},
   "outputs": [
    {
     "data": {
      "text/plain": [
       "White       1014\n",
       "Other         92\n",
       "Hispanic      41\n",
       "Black         41\n",
       "W              1\n",
       "Name: racethn4, dtype: int64"
      ]
     },
     "execution_count": 73,
     "metadata": {},
     "output_type": "execute_result"
    }
   ],
   "source": [
    "survey.racethn4.value_counts()"
   ]
  },
  {
   "cell_type": "code",
   "execution_count": 19,
   "id": "fa40501e",
   "metadata": {
    "scrolled": true
   },
   "outputs": [
    {
     "data": {
      "image/png": "[encoded data removed]",
      "text/plain": [
       "<Figure size 640x480 with 1 Axes>"
      ]
     },
     "metadata": {},
     "output_type": "display_data"
    }
   ],
   "source": [
    "plt.scatter(survey[\"q0007_0001\"], survey[\"q0007_0002\"], alpha = 0.1)\n",
    "plt.show()"
   ]
  },
  {
   "cell_type": "code",
   "execution_count": 48,
   "id": "1919b082",
   "metadata": {},
   "outputs": [],
   "source": [
    "column_list = []\n",
    "for num in range(1,12):\n",
    "    if num < 10: column_list += [\"q0007_000\" + str(num)]\n",
    "    else: column_list += [\"q0007_00\" + str(num)]\n",
    "    \n",
    "rows_to_cluster = survey.dropna(subset = column_list)"
   ]
  },
  {
   "cell_type": "code",
   "execution_count": 57,
   "id": "29245851",
   "metadata": {},
   "outputs": [
    {
     "data": {
      "text/plain": [
       "Index(['Unnamed: 0', 'StartDate', 'EndDate', 'q0001', 'q0002', 'q0004_0001',\n",
       "       'q0004_0002', 'q0004_0003', 'q0004_0004', 'q0004_0005', 'q0004_0006',\n",
       "       'q0005', 'q0007_0001', 'q0007_0002', 'q0007_0003', 'q0007_0004',\n",
       "       'q0007_0005', 'q0007_0006', 'q0007_0007', 'q0007_0008', 'q0007_0009',\n",
       "       'q0007_0010', 'q0007_0011', 'q0008_0001', 'q0008_0002', 'q0008_0003',\n",
       "       'q0008_0004', 'q0008_0005', 'q0008_0006', 'q0008_0007', 'q0008_0008',\n",
       "       'q0008_0009', 'q0008_0010', 'q0008_0011', 'q0008_0012', 'q0009',\n",
       "       'q0010_0001', 'q0010_0002', 'q0010_0003', 'q0010_0004', 'q0010_0005',\n",
       "       'q0010_0006', 'q0010_0007', 'q0010_0008', 'q0011_0001', 'q0011_0002',\n",
       "       'q0011_0003', 'q0011_0004', 'q0011_0005', 'q0012_0001', 'q0012_0002',\n",
       "       'q0012_0003', 'q0012_0004', 'q0012_0005', 'q0012_0006', 'q0012_0007',\n",
       "       'q0013', 'q0014', 'q0015', 'q0017', 'q0018', 'q0019_0001', 'q0019_0002',\n",
       "       'q0019_0003', 'q0019_0004', 'q0019_0005', 'q0019_0006', 'q0019_0007',\n",
       "       'q0020_0001', 'q0020_0002', 'q0020_0003', 'q0020_0004', 'q0020_0005',\n",
       "       'q0020_0006', 'q0021_0001', 'q0021_0002', 'q0021_0003', 'q0021_0004',\n",
       "       'q0022', 'q0024', 'q0025_0001', 'q0025_0002', 'q0025_0003', 'q0026',\n",
       "       'q0028', 'q0029', 'q0030', 'q0034', 'q0035', 'q0036', 'race2',\n",
       "       'racethn4', 'educ3', 'educ4', 'age3', 'kids', 'orientation', 'weight'],\n",
       "      dtype='object')"
      ]
     },
     "execution_count": 57,
     "metadata": {},
     "output_type": "execute_result"
    }
   ],
   "source": [
    "rows_to_cluster.columns"
   ]
  },
  {
   "cell_type": "code",
   "execution_count": 52,
   "id": "b5e5142d",
   "metadata": {},
   "outputs": [
    {
     "data": {
      "text/plain": [
       "KMeans(n_clusters=2)"
      ]
     },
     "execution_count": 52,
     "metadata": {},
     "output_type": "execute_result"
    }
   ],
   "source": [
    "model = KMeans(n_clusters = 2)\n",
    "model.fit(rows_to_cluster[column_list])"
   ]
  },
  {
   "cell_type": "code",
   "execution_count": 53,
   "id": "5ab9b9a3",
   "metadata": {},
   "outputs": [
    {
     "name": "stdout",
     "output_type": "stream",
     "text": [
      "[[1.90813648 1.8503937  0.96062992 1.66929134 0.53805774 2.88188976\n",
      "  0.0839895  2.80577428 2.17847769 0.61154856 1.66929134]\n",
      " [2.85669782 2.8364486  2.8411215  2.43925234 0.71806854 2.74454829\n",
      "  0.52492212 2.97196262 2.80373832 1.53582555 2.39252336]]\n"
     ]
    }
   ],
   "source": [
    "print(model.cluster_centers_)"
   ]
  },
  {
   "cell_type": "code",
   "execution_count": 54,
   "id": "a2fc90dd",
   "metadata": {},
   "outputs": [],
   "source": [
    "cluster_zero_indices, cluster_one_indices = [[],[]]\n",
    "for row in range(len(model.labels_)):\n",
    "    if model.labels_[row] == 0:\n",
    "        cluster_zero_indices += [row]\n",
    "    else: cluster_one_indices += [row]\n"
   ]
  },
  {
   "cell_type": "code",
   "execution_count": 55,
   "id": "b22b51aa",
   "metadata": {},
   "outputs": [],
   "source": [
    "cluster_zero_df = rows_to_cluster.iloc[cluster_zero_indices]\n",
    "cluster_one_df = rows_to_cluster.iloc[cluster_one_indices]"
   ]
  },
  {
   "cell_type": "code",
   "execution_count": 78,
   "id": "2181acfb",
   "metadata": {
    "scrolled": true
   },
   "outputs": [
    {
     "name": "stdout",
     "output_type": "stream",
     "text": [
      "More toxic masculinity\n",
      "College or more         32.020997\n",
      "Some college            29.396325\n",
      "Post graduate degree    25.721785\n",
      "High school or less     12.598425\n",
      "Name: educ4, dtype: float64\n",
      "\n",
      "\n",
      "Less toxic masculinity\n",
      "Post graduate degree    36.915888\n",
      "College or more         31.308411\n",
      "Some college            23.676012\n",
      "High school or less      8.099688\n",
      "Name: educ4, dtype: float64\n"
     ]
    }
   ],
   "source": [
    "print(\"More toxic masculinity\")\n",
    "print(cluster_zero_df.educ4.value_counts()*100/len(cluster_zero_df))\n",
    "print(\"\\n\")\n",
    "print(\"Less toxic masculinity\")\n",
    "print(cluster_one_df.educ4.value_counts()*100/len(cluster_one_df))"
   ]
  },
  {
   "cell_type": "code",
   "execution_count": 79,
   "id": "9f91fce9",
   "metadata": {},
   "outputs": [
    {
     "name": "stdout",
     "output_type": "stream",
     "text": [
      "More toxic masculinity\n",
      "65 and up    53.805774\n",
      "35 - 64      40.419948\n",
      "18 - 34       5.511811\n",
      "Name: age3, dtype: float64\n",
      "\n",
      "\n",
      "Less toxic masculinity\n",
      "35 - 64      50.311526\n",
      "65 and up    42.367601\n",
      "18 - 34       7.320872\n",
      "Name: age3, dtype: float64\n"
     ]
    }
   ],
   "source": [
    "print(\"More toxic masculinity\")\n",
    "print(cluster_zero_df.age3.value_counts()*100/len(cluster_zero_df))\n",
    "print(\"\\n\")\n",
    "print(\"Less toxic masculinity\")\n",
    "print(cluster_one_df.age3.value_counts()*100/len(cluster_one_df))"
   ]
  },
  {
   "cell_type": "code",
   "execution_count": 80,
   "id": "e231a0ac",
   "metadata": {},
   "outputs": [
    {
     "name": "stdout",
     "output_type": "stream",
     "text": [
      "More toxic masculinity\n",
      "White        85.301837\n",
      "Non-white    14.698163\n",
      "Name: race2, dtype: float64\n",
      "\n",
      "\n",
      "Less toxic masculinity\n",
      "White        84.890966\n",
      "Non-white    15.109034\n",
      "Name: race2, dtype: float64\n"
     ]
    }
   ],
   "source": [
    "print(\"More toxic masculinity\")\n",
    "print(cluster_zero_df.race2.value_counts()*100/len(cluster_zero_df))\n",
    "print(\"\\n\")\n",
    "print(\"Less toxic masculinity\")\n",
    "print(cluster_one_df.race2.value_counts()*100/len(cluster_one_df))"
   ]
  },
  {
   "cell_type": "code",
   "execution_count": 82,
   "id": "6e38904d",
   "metadata": {},
   "outputs": [
    {
     "name": "stdout",
     "output_type": "stream",
     "text": [
      "More toxic masculinity\n",
      "Has children    70.341207\n",
      "No children     29.133858\n",
      "Name: kids, dtype: float64\n",
      "\n",
      "\n",
      "Less toxic masculinity\n",
      "Has children    66.666667\n",
      "No children     33.021807\n",
      "Name: kids, dtype: float64\n"
     ]
    }
   ],
   "source": [
    "print(\"More toxic masculinity\")\n",
    "print(cluster_zero_df.kids.value_counts()*100/len(cluster_zero_df))\n",
    "print(\"\\n\")\n",
    "print(\"Less toxic masculinity\")\n",
    "print(cluster_one_df.kids.value_counts()*100/len(cluster_one_df))"
   ]
  },
  {
   "cell_type": "code",
   "execution_count": 83,
   "id": "a3488a74",
   "metadata": {},
   "outputs": [
    {
     "name": "stdout",
     "output_type": "stream",
     "text": [
      "More toxic masculinity\n",
      "Straight        94.488189\n",
      "Gay/Bisexual     3.937008\n",
      "Other            0.787402\n",
      "No answer        0.524934\n",
      "Name: orientation, dtype: float64\n",
      "\n",
      "\n",
      "Less toxic masculinity\n",
      "Straight        82.242991\n",
      "Gay/Bisexual    15.109034\n",
      "Other            2.492212\n",
      "No answer        0.155763\n",
      "Name: orientation, dtype: float64\n"
     ]
    }
   ],
   "source": [
    "print(\"More toxic masculinity\")\n",
    "print(cluster_zero_df.orientation.value_counts()*100/len(cluster_zero_df))\n",
    "print(\"\\n\")\n",
    "print(\"Less toxic masculinity\")\n",
    "print(cluster_one_df.orientation.value_counts()*100/len(cluster_one_df))"
   ]
  }
 ],
 "metadata": {
  "kernelspec": {
   "display_name": "Python 3 (ipykernel)",
   "language": "python",
   "name": "python3"
  },
  "language_info": {
   "codemirror_mode": {
    "name": "ipython",
    "version": 3
   },
   "file_extension": ".py",
   "mimetype": "text/x-python",
   "name": "python",
   "nbconvert_exporter": "python",
   "pygments_lexer": "ipython3",
   "version": "3.9.13"
  }
 },
 "nbformat": 4,
 "nbformat_minor": 5
}
