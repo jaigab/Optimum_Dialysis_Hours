{
 "cells": [
  {
   "cell_type": "markdown",
   "id": "4f694bbb-c96a-4842-96d1-501d0f15a0d5",
   "metadata": {},
   "source": [
    "<h1> Masculinity survey </h1>"
   ]
  },
  {
   "cell_type": "markdown",
   "id": "80f6375e-2753-447f-adfe-e70a4c0f24d0",
   "metadata": {},
   "source": [
    "Import required python modules"
   ]
  },
  {
   "cell_type": "code",
   "execution_count": 7,
   "id": "b0242fbe-5057-4204-99f7-2db8d604c546",
   "metadata": {},
   "outputs": [],
   "source": [
    "import pandas as pd\n",
    "from matplotlib import pyplot as plt\n",
    "from sklearn.cluster import KMeans"
   ]
  },
  {
   "cell_type": "markdown",
   "id": "71bb6268-05bf-4c2d-99f9-6b1eaeeeda9f",
   "metadata": {},
   "source": [
    "Import the masculinity survey data and convert the word answers into numerical values using the mapping_dictionary.\n",
    "Then drop any Nan records from the survey results."
   ]
  },
  {
   "cell_type": "code",
   "execution_count": 8,
   "id": "6878b5a5-c39e-4d62-82fd-c37a763a7a6b",
   "metadata": {},
   "outputs": [],
   "source": [
    "survey = pd.read_csv(\"masculinity.csv\")\n",
    "mapping_dictionary = {\"Often\" : 4, \"Sometimes\" : 3, \"Rarely\" : 2, \"Never, but open to it\" : 1, \"Never, and not open to it\" : 0.}\n",
    "column_list = []\n",
    "for num in range(1,12):\n",
    "    if num < 10: \n",
    "        survey[\"q0007_000\" + str(num)] = survey[\"q0007_000\" + str(num)].map(mapping_dictionary)\n",
    "        column_list += [\"q0007_000\" + str(num)]\n",
    "    else: \n",
    "        survey[\"q0007_00\" + str(num)] = survey[\"q0007_00\" + str(num)].map(mapping_dictionary)\n",
    "        column_list += [\"q0007_00\" + str(num)]\n",
    "rows_to_cluster = survey.dropna(subset = column_list)"
   ]
  },
  {
   "cell_type": "markdown",
   "id": "0fbef676-fb30-484e-8d34-c4738879c0a7",
   "metadata": {},
   "source": [
    "Create a Kmeans model and fit it to the rows under assesment. n_clusters = 2 as the data will be seperated into 2 groups. One exhibiting more traits associated with toxic masculinity and one not."
   ]
  },
  {
   "cell_type": "code",
   "execution_count": 17,
   "id": "b5e5142d",
   "metadata": {},
   "outputs": [
    {
     "name": "stdout",
     "output_type": "stream",
     "text": [
      "[[1.91052632 1.85263158 0.95789474 1.66578947 0.53947368 2.88421053\n",
      "  0.08421053 2.80789474 2.17894737 0.60789474 1.66315789]\n",
      " [2.85381026 2.83359253 2.83981337 2.44012442 0.71695179 2.74339036\n",
      "  0.52410575 2.97045101 2.80248834 1.53654743 2.39502333]]\n"
     ]
    }
   ],
   "source": [
    "model = KMeans(n_clusters = 2)\n",
    "model.fit(rows_to_cluster[column_list])\n",
    "print(model.cluster_centers_)"
   ]
  },
  {
   "cell_type": "markdown",
   "id": "5c002e58-f89d-4a29-a500-a80960b3f1cb",
   "metadata": {},
   "source": [
    "Create 2 lists to seperate the datapoints labeled as 0 (more masculine) and 1 (less masculine)"
   ]
  },
  {
   "cell_type": "code",
   "execution_count": 87,
   "id": "a2fc90dd",
   "metadata": {
    "tags": []
   },
   "outputs": [],
   "source": [
    "cluster_zero_indices, cluster_one_indices = [[],[]]\n",
    "for row in range(len(model.labels_)):\n",
    "    if model.labels_[row] == 0:\n",
    "        cluster_zero_indices += [row]\n",
    "    else: cluster_one_indices += [row]\n",
    "cluster_zero_df = rows_to_cluster.iloc[cluster_zero_indices]\n",
    "cluster_one_df = rows_to_cluster.iloc[cluster_one_indices]"
   ]
  },
  {
   "cell_type": "markdown",
   "id": "efc7967f-bc81-49a6-b90d-eaf092e320c5",
   "metadata": {},
   "source": [
    "Define a function that returns the relative percentage of different attributes making up each masculinity group"
   ]
  },
  {
   "cell_type": "code",
   "execution_count": 115,
   "id": "4d111471-e626-46e6-865c-0b2efc0dd619",
   "metadata": {},
   "outputs": [],
   "source": [
    "def percentage_breakdown_by_attribute(zero_cluster_df, one_cluster_df, attribute):\n",
    "    cluster_zero_dict = {}\n",
    "    for row in range(len(list(zero_cluster_df[attribute].value_counts().index))):\n",
    "        cluster_zero_dict[list(zero_cluster_df[attribute].value_counts().index)[row]] = [str(round(zero_cluster_df[attribute].value_counts().values[row]*100/len(zero_cluster_df),2))+\"%\"]\n",
    "    cluster_zero_df_percentages = pd.DataFrame.from_dict(cluster_zero_dict)\n",
    "    cluster_zero_df_percentages[\"Group\"] = [\"More toxic masculinity\"]\n",
    "    cluster_one_dict = {}\n",
    "    for i in range(len(list(one_cluster_df[attribute].value_counts().index))):\n",
    "        cluster_one_dict[list(one_cluster_df[attribute].value_counts().index)[i]] = [str(round(one_cluster_df[attribute].value_counts().values[i]*100/len(one_cluster_df),2))+\"%\"]\n",
    "    cluster_one_df_percentages = pd.DataFrame.from_dict(cluster_one_dict)\n",
    "    cluster_one_df_percentages[\"Group\"] = [\"Less toxic masculinity\"]\n",
    "    if 'cluster_df_percentages' in locals():\n",
    "        del cluster_df_percentages\n",
    "    cluster_df_percentages = pd.concat([cluster_zero_df_percentages,cluster_one_df_percentages]).reset_index()\n",
    "    cluster_df_percentages.drop(columns = [\"index\"], inplace = True)\n",
    "    cluster_df_percentages.set_index(\"Group\", inplace = True)\n",
    "    pd.DataFrame.transpose(cluster_df_percentages)\n",
    "    return cluster_df_percentages"
   ]
  },
  {
   "cell_type": "markdown",
   "id": "9f62ebc1-1dd7-48f3-bfdb-dc53134937cf",
   "metadata": {},
   "source": [
    "Apply the function to different attributes \n",
    "<h3> Education level </h3>"
   ]
  },
  {
   "cell_type": "code",
   "execution_count": 116,
   "id": "e253fb5d-7e1b-4d9a-926f-4eaea74b4152",
   "metadata": {},
   "outputs": [
    {
     "data": {
      "text/html": [
       "<div>\n",
       "<style scoped>\n",
       "    .dataframe tbody tr th:only-of-type {\n",
       "        vertical-align: middle;\n",
       "    }\n",
       "\n",
       "    .dataframe tbody tr th {\n",
       "        vertical-align: top;\n",
       "    }\n",
       "\n",
       "    .dataframe thead th {\n",
       "        text-align: right;\n",
       "    }\n",
       "</style>\n",
       "<table border=\"1\" class=\"dataframe\">\n",
       "  <thead>\n",
       "    <tr style=\"text-align: right;\">\n",
       "      <th></th>\n",
       "      <th>College or more</th>\n",
       "      <th>Some college</th>\n",
       "      <th>Post graduate degree</th>\n",
       "      <th>High school or less</th>\n",
       "    </tr>\n",
       "    <tr>\n",
       "      <th>Group</th>\n",
       "      <th></th>\n",
       "      <th></th>\n",
       "      <th></th>\n",
       "      <th></th>\n",
       "    </tr>\n",
       "  </thead>\n",
       "  <tbody>\n",
       "    <tr>\n",
       "      <th>More toxic masculinity</th>\n",
       "      <td>32.11%</td>\n",
       "      <td>29.47%</td>\n",
       "      <td>25.53%</td>\n",
       "      <td>12.63%</td>\n",
       "    </tr>\n",
       "    <tr>\n",
       "      <th>Less toxic masculinity</th>\n",
       "      <td>31.26%</td>\n",
       "      <td>23.64%</td>\n",
       "      <td>37.01%</td>\n",
       "      <td>8.09%</td>\n",
       "    </tr>\n",
       "  </tbody>\n",
       "</table>\n",
       "</div>"
      ],
      "text/plain": [
       "                       College or more Some college Post graduate degree  \\\n",
       "Group                                                                      \n",
       "More toxic masculinity          32.11%       29.47%               25.53%   \n",
       "Less toxic masculinity          31.26%       23.64%               37.01%   \n",
       "\n",
       "                       High school or less  \n",
       "Group                                       \n",
       "More toxic masculinity              12.63%  \n",
       "Less toxic masculinity               8.09%  "
      ]
     },
     "execution_count": 116,
     "metadata": {},
     "output_type": "execute_result"
    }
   ],
   "source": [
    "percentage_breakdown_by_attribute(cluster_zero_df, cluster_one_df, \"educ4\")"
   ]
  },
  {
   "cell_type": "markdown",
   "id": "f675aa52-0641-487b-a7c1-73794688921f",
   "metadata": {},
   "source": [
    "<h3> Age </h3>"
   ]
  },
  {
   "cell_type": "code",
   "execution_count": 117,
   "id": "94d044bb-64a3-4f77-9909-4c0b9c1e30c8",
   "metadata": {},
   "outputs": [
    {
     "data": {
      "text/html": [
       "<div>\n",
       "<style scoped>\n",
       "    .dataframe tbody tr th:only-of-type {\n",
       "        vertical-align: middle;\n",
       "    }\n",
       "\n",
       "    .dataframe tbody tr th {\n",
       "        vertical-align: top;\n",
       "    }\n",
       "\n",
       "    .dataframe thead th {\n",
       "        text-align: right;\n",
       "    }\n",
       "</style>\n",
       "<table border=\"1\" class=\"dataframe\">\n",
       "  <thead>\n",
       "    <tr style=\"text-align: right;\">\n",
       "      <th></th>\n",
       "      <th>65 and up</th>\n",
       "      <th>35 - 64</th>\n",
       "      <th>18 - 34</th>\n",
       "    </tr>\n",
       "    <tr>\n",
       "      <th>Group</th>\n",
       "      <th></th>\n",
       "      <th></th>\n",
       "      <th></th>\n",
       "    </tr>\n",
       "  </thead>\n",
       "  <tbody>\n",
       "    <tr>\n",
       "      <th>More toxic masculinity</th>\n",
       "      <td>53.68%</td>\n",
       "      <td>40.53%</td>\n",
       "      <td>5.53%</td>\n",
       "    </tr>\n",
       "    <tr>\n",
       "      <th>Less toxic masculinity</th>\n",
       "      <td>42.46%</td>\n",
       "      <td>50.23%</td>\n",
       "      <td>7.31%</td>\n",
       "    </tr>\n",
       "  </tbody>\n",
       "</table>\n",
       "</div>"
      ],
      "text/plain": [
       "                       65 and up 35 - 64 18 - 34\n",
       "Group                                           \n",
       "More toxic masculinity    53.68%  40.53%   5.53%\n",
       "Less toxic masculinity    42.46%  50.23%   7.31%"
      ]
     },
     "execution_count": 117,
     "metadata": {},
     "output_type": "execute_result"
    }
   ],
   "source": [
    "percentage_breakdown_by_attribute(cluster_zero_df, cluster_one_df, \"age3\")"
   ]
  },
  {
   "cell_type": "markdown",
   "id": "b169d553-5daa-4dab-af5a-ff1f4b6b7645",
   "metadata": {},
   "source": [
    "<h3> Race </h3>"
   ]
  },
  {
   "cell_type": "code",
   "execution_count": 118,
   "id": "2ce155ad-0e97-444a-8c09-3b05a5e00d78",
   "metadata": {},
   "outputs": [
    {
     "data": {
      "text/html": [
       "<div>\n",
       "<style scoped>\n",
       "    .dataframe tbody tr th:only-of-type {\n",
       "        vertical-align: middle;\n",
       "    }\n",
       "\n",
       "    .dataframe tbody tr th {\n",
       "        vertical-align: top;\n",
       "    }\n",
       "\n",
       "    .dataframe thead th {\n",
       "        text-align: right;\n",
       "    }\n",
       "</style>\n",
       "<table border=\"1\" class=\"dataframe\">\n",
       "  <thead>\n",
       "    <tr style=\"text-align: right;\">\n",
       "      <th></th>\n",
       "      <th>White</th>\n",
       "      <th>Non-white</th>\n",
       "    </tr>\n",
       "    <tr>\n",
       "      <th>Group</th>\n",
       "      <th></th>\n",
       "      <th></th>\n",
       "    </tr>\n",
       "  </thead>\n",
       "  <tbody>\n",
       "    <tr>\n",
       "      <th>More toxic masculinity</th>\n",
       "      <td>85.26%</td>\n",
       "      <td>14.74%</td>\n",
       "    </tr>\n",
       "    <tr>\n",
       "      <th>Less toxic masculinity</th>\n",
       "      <td>84.91%</td>\n",
       "      <td>15.09%</td>\n",
       "    </tr>\n",
       "  </tbody>\n",
       "</table>\n",
       "</div>"
      ],
      "text/plain": [
       "                         White Non-white\n",
       "Group                                   \n",
       "More toxic masculinity  85.26%    14.74%\n",
       "Less toxic masculinity  84.91%    15.09%"
      ]
     },
     "execution_count": 118,
     "metadata": {},
     "output_type": "execute_result"
    }
   ],
   "source": [
    "percentage_breakdown_by_attribute(cluster_zero_df, cluster_one_df, \"race2\")"
   ]
  },
  {
   "cell_type": "markdown",
   "id": "f40004d8-2da1-41a9-a17d-ca427979f587",
   "metadata": {},
   "source": [
    "<h3> Whether they have kids </h3>"
   ]
  },
  {
   "cell_type": "code",
   "execution_count": 119,
   "id": "ce104c7f-e2b9-4b6f-9a1a-532ca25ebfc9",
   "metadata": {},
   "outputs": [
    {
     "data": {
      "text/html": [
       "<div>\n",
       "<style scoped>\n",
       "    .dataframe tbody tr th:only-of-type {\n",
       "        vertical-align: middle;\n",
       "    }\n",
       "\n",
       "    .dataframe tbody tr th {\n",
       "        vertical-align: top;\n",
       "    }\n",
       "\n",
       "    .dataframe thead th {\n",
       "        text-align: right;\n",
       "    }\n",
       "</style>\n",
       "<table border=\"1\" class=\"dataframe\">\n",
       "  <thead>\n",
       "    <tr style=\"text-align: right;\">\n",
       "      <th></th>\n",
       "      <th>Has children</th>\n",
       "      <th>No children</th>\n",
       "    </tr>\n",
       "    <tr>\n",
       "      <th>Group</th>\n",
       "      <th></th>\n",
       "      <th></th>\n",
       "    </tr>\n",
       "  </thead>\n",
       "  <tbody>\n",
       "    <tr>\n",
       "      <th>More toxic masculinity</th>\n",
       "      <td>70.26%</td>\n",
       "      <td>29.21%</td>\n",
       "    </tr>\n",
       "    <tr>\n",
       "      <th>Less toxic masculinity</th>\n",
       "      <td>66.72%</td>\n",
       "      <td>32.97%</td>\n",
       "    </tr>\n",
       "  </tbody>\n",
       "</table>\n",
       "</div>"
      ],
      "text/plain": [
       "                       Has children No children\n",
       "Group                                          \n",
       "More toxic masculinity       70.26%      29.21%\n",
       "Less toxic masculinity       66.72%      32.97%"
      ]
     },
     "execution_count": 119,
     "metadata": {},
     "output_type": "execute_result"
    }
   ],
   "source": [
    "percentage_breakdown_by_attribute(cluster_zero_df, cluster_one_df, \"kids\")"
   ]
  },
  {
   "cell_type": "markdown",
   "id": "c5717d5a-99f8-4c99-b36f-bc640d777d1b",
   "metadata": {},
   "source": [
    "<h3> Orientation </h3>"
   ]
  },
  {
   "cell_type": "code",
   "execution_count": 120,
   "id": "f83096c8-d24c-4edb-b48e-8595204bc53e",
   "metadata": {},
   "outputs": [
    {
     "data": {
      "text/html": [
       "<div>\n",
       "<style scoped>\n",
       "    .dataframe tbody tr th:only-of-type {\n",
       "        vertical-align: middle;\n",
       "    }\n",
       "\n",
       "    .dataframe tbody tr th {\n",
       "        vertical-align: top;\n",
       "    }\n",
       "\n",
       "    .dataframe thead th {\n",
       "        text-align: right;\n",
       "    }\n",
       "</style>\n",
       "<table border=\"1\" class=\"dataframe\">\n",
       "  <thead>\n",
       "    <tr style=\"text-align: right;\">\n",
       "      <th></th>\n",
       "      <th>Straight</th>\n",
       "      <th>Gay/Bisexual</th>\n",
       "      <th>Other</th>\n",
       "      <th>No answer</th>\n",
       "    </tr>\n",
       "    <tr>\n",
       "      <th>Group</th>\n",
       "      <th></th>\n",
       "      <th></th>\n",
       "      <th></th>\n",
       "      <th></th>\n",
       "    </tr>\n",
       "  </thead>\n",
       "  <tbody>\n",
       "    <tr>\n",
       "      <th>More toxic masculinity</th>\n",
       "      <td>94.47%</td>\n",
       "      <td>3.95%</td>\n",
       "      <td>0.79%</td>\n",
       "      <td>0.53%</td>\n",
       "    </tr>\n",
       "    <tr>\n",
       "      <th>Less toxic masculinity</th>\n",
       "      <td>82.27%</td>\n",
       "      <td>15.09%</td>\n",
       "      <td>2.49%</td>\n",
       "      <td>0.16%</td>\n",
       "    </tr>\n",
       "  </tbody>\n",
       "</table>\n",
       "</div>"
      ],
      "text/plain": [
       "                       Straight Gay/Bisexual  Other No answer\n",
       "Group                                                        \n",
       "More toxic masculinity   94.47%        3.95%  0.79%     0.53%\n",
       "Less toxic masculinity   82.27%       15.09%  2.49%     0.16%"
      ]
     },
     "execution_count": 120,
     "metadata": {},
     "output_type": "execute_result"
    }
   ],
   "source": [
    "percentage_breakdown_by_attribute(cluster_zero_df, cluster_one_df, \"orientation\")"
   ]
  }
 ],
 "metadata": {
  "kernelspec": {
   "display_name": "Python 3 (ipykernel)",
   "language": "python",
   "name": "python3"
  },
  "language_info": {
   "codemirror_mode": {
    "name": "ipython",
    "version": 3
   },
   "file_extension": ".py",
   "mimetype": "text/x-python",
   "name": "python",
   "nbconvert_exporter": "python",
   "pygments_lexer": "ipython3",
   "version": "3.9.13"
  }
 },
 "nbformat": 4,
 "nbformat_minor": 5
}
